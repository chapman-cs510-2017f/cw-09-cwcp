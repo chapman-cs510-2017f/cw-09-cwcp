{
 "cells": [
  {
   "cell_type": "markdown",
   "metadata": {
    "collapsed": false
   },
   "source": [
    "# factorial.c"
   ]
  },
  {
   "cell_type": "markdown",
   "metadata": {
    "collapsed": false
   },
   "source": [
    "* Describe the algorithm being used.\n",
    "\n",
    "The algorithm initializes the variable \"fac\" as the integer value n, which is the input. Then, the algorithm continually multiplies by $n-1$, by reduicing n by 1 and multiplying. When $n=0$, the algorithm terminates. \n",
    "\n",
    "* Describe two problems with the current function definition.\n",
    "\n",
    "The two problems with the current function definition is that $0!$ is not equal to 1 and the while loops multiplies by 0 on the last iteration, resulting in the factorial being 0. \n",
    "\n",
    "* Describe how you can fix those problems.\n",
    "\n",
    "We made an if statement to handle the special case of $0!$ and changed the while loop to stop when $n>1$."
   ]
  },
  {
   "cell_type": "code",
   "execution_count": 0,
   "metadata": {
    "collapsed": false
   },
   "outputs": [
   ],
   "source": [
   ]
  }
 ],
 "metadata": {
  "kernelspec": {
   "display_name": "Julia",
   "language": "julia",
   "name": "julia"
  },
  "language_info": {
   "file_extension": ".jl",
   "mimetype": "application/julia",
   "name": "julia",
   "version": "0.6.0"
  }
 },
 "nbformat": 4,
 "nbformat_minor": 0
}