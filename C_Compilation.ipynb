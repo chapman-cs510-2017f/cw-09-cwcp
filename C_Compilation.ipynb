{
 "cells": [
  {
   "cell_type": "markdown",
   "metadata": {
    "collapsed": false
   },
   "source": [
    "# Questions\n",
    "* Describe what the purpose of a Makefile is\n",
    "Organizes the compilation of a .c file.\n",
    "\n",
    "* Describe how the code is organized here. Why is this a reasonable structure?\n",
    "The code is organized into multiple files so that 1) we can use the same functions in multiple c files (like a package  in python) and so that there's  some  kind of agreed  upon structure so that others can  read and use  our code.\n",
    "\n",
    "* Describe what a header file is.\n",
    "A header file contains definitions and declerations that can be used for multiple c files. This has the .h file extension.\n",
    "\n",
    "* Describe what a source file is.\n",
    "Source file is the .c file that contains the actual instructions that we want to run, coded in C.\n",
    "\n",
    "* Describe what an object file is.\n",
    "Object files are what come out of the compiling process, it contains machine readable code.\n",
    "\n",
    "* Describe what compiling is.\n",
    "Compiling is converting c code to binary using a C  compiler. This means that the source .c  code does not need to be stored on a machine to run it, also it means that it's incredibly fast once it's compiled because  it's already been converted to machine code.\n",
    "\n",
    "* Describe what linking is.\n",
    "A linker will take all the output files (machine code after compiling) and link them together to form an executable file or program that can be run on a machine.\n",
    "\n"
   ]
  }
 ],
 "metadata": {
  "kernelspec": {
   "display_name": "Python 3 (Anaconda)",
   "language": "python",
   "name": "anaconda3"
  },
  "language_info": {
   "codemirror_mode": {
    "name": "ipython",
    "version": 3
   },
   "file_extension": ".py",
   "mimetype": "text/x-python",
   "name": "python",
   "nbconvert_exporter": "python",
   "pygments_lexer": "ipython3",
   "version": "3.5.4"
  }
 },
 "nbformat": 4,
 "nbformat_minor": 0
}